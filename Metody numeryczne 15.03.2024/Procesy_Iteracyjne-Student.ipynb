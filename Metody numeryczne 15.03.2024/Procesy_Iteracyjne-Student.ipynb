{
 "cells": [
  {
   "cell_type": "markdown",
   "id": "numeric-california",
   "metadata": {},
   "source": [
    "# <center> Uwarunkowanie, stabilność i rozwiązywanie równań nieliniowych<br>(poszukiwanie miejsc zerowych funkcji) </center>"
   ]
  },
  {
   "cell_type": "markdown",
   "id": "opposed-square",
   "metadata": {},
   "source": [
    "# Uwarunkowanie i stabilność"
   ]
  },
  {
   "cell_type": "markdown",
   "id": "conditional-magazine",
   "metadata": {},
   "source": [
    "\n",
    "***Zadanie 1. Czy wyznaczanie miejsc zerowych wielomianu może być zadaniem dobrze/źle uwarunkowanym? (Wielomian Wilkinsona)***\n",
    "\n",
    "W Pythonie możemy stworzyć wielomian przekazując jako parametr wektor jego współczynników (począwszy od współczynnika stojącego przy **najniższej** potędze, patrz przykład poniżej). Proszę korzystać z modułu *numpy.polynomial* (zamiast *poly1d*).\n",
    "* Wyznacz pierwiastki wielomianu $W(x) = x^2 + 3x + 2$ za pomocą metody lub funkcji *roots()*.\n",
    "* Funkcja *Polynomial.fromroots* tworzy wielomian na podstawie listy przekazanych pierwiastków. Utwórz wielomian o następujących pierwiastkach $\\{x_n = n, n = 1, 2, 3, . . . , 15\\}$.\n",
    "* Za pomocą funkcji/metody *roots* znajdź pierwiastki tego wielomianu i oceń dokładność otrzymanego wyniku.\n",
    "* Do trzynastego elementu wektora współczynników wprowadź małe zaburzenie (np. rzędu $10^−5$) i znajdź pierwiastki wielomianu o zaburzonych współczynnikach. Wykreśl pierwiastki na płaszczyznie zespolonej. \n",
    "* Czy zadanie znalezienia pierwiastków tego wielomianu jest zadaniem dobrze uwarunkowanym?\n"
   ]
  },
  {
   "cell_type": "code",
   "execution_count": null,
   "id": "2ed24b12",
   "metadata": {},
   "outputs": [],
   "source": [
    "import numpy as np\n",
    "import matplotlib.pyplot as plt"
   ]
  },
  {
   "cell_type": "code",
   "execution_count": null,
   "id": "fabulous-monte",
   "metadata": {},
   "outputs": [],
   "source": [
    "from numpy.polynomial import Polynomial\n",
    "# Przykłady operacji na wielomianach\n",
    "p = Polynomial([3, 2, 1]) # Od ostatniego współczynnika\n",
    "print(p)\n",
    "print(p.roots())\n",
    "print(Polynomial.roots(p))"
   ]
  },
  {
   "cell_type": "code",
   "execution_count": null,
   "id": "585dc664",
   "metadata": {},
   "outputs": [],
   "source": [
    " \n",
    "roots_list = np.arange(1, 16)\n",
    "poly_from_roots = Polynomial.fromroots(roots_list)\n",
    "\n",
    "# Znajdowanie pierwiastków wielomianu utworzonego z podanych pierwiastków\n",
    "roots_from_roots = poly_from_roots.roots()\n",
    "print(\"Pierwiastki wielomianu z podanych pierwiastków:\", roots_from_roots)\n",
    "\n",
    "# Ocena dokładności otrzymanego wyniku\n",
    "error = np.abs(roots_list - roots_from_roots)\n",
    "print(\"Błąd bezwzględny dla każdego pierwiastka:\", error)\n",
    "\n",
    "# Dodanie małego zaburzenia do trzynastego elementu wektora współczynników\n",
    "coefficients_from_roots_with_noise = poly_from_roots.coef.copy()\n",
    "coefficients_from_roots_with_noise[13] += 1e-5\n",
    "\n",
    "# Znajdowanie pierwiastków wielomianu z zaburzonymi współczynnikami\n",
    "poly_from_roots_with_noise = Polynomial(coefficients_from_roots_with_noise)\n",
    "roots_from_roots_with_noise = poly_from_roots_with_noise.roots()\n",
    "\n",
    "# Wykres pierwiastków na płaszczyźnie zespolonej\n",
    "plt.scatter(roots_from_roots_with_noise.real, roots_from_roots_with_noise.imag, color='red', label='Pierwiastki z zaburzeniem')\n",
    "plt.scatter(roots_from_roots.real, roots_from_roots.imag, color='blue', label='Pierwiastki bez zaburzenia')\n",
    "plt.xlabel('Realna część')\n",
    "plt.ylabel('Urojona część')\n",
    "plt.title('Porównanie pierwiastków z i bez zaburzenia')\n",
    "plt.legend()\n",
    "plt.grid(True)\n",
    "plt.show() "
   ]
  },
  {
   "cell_type": "markdown",
   "id": "latin-barbados",
   "metadata": {},
   "source": [
    "***Zadanie 2. Całka oznaczona***\n",
    "\n",
    "Przykład z wykładu:\n",
    "Naszym celem jest znalezienie całki $I_n=\\int_0^1 x^ne^{x-1}dx$  dla $n = 20$.\n",
    "* Na podstawie np. przybliżonych wykresów funkcji podcałkowej, proszę oszacować wartość tej całki oraz relację miedzy $I_n$ a $I_{n−1}$.\n",
    "* Ciąg wartości $I_i$ można wyznaczyć za pomocą wzoru otrzymanego z całkowania przez części: $I_n = 1−nI_{n−1}, I_1 = \\frac{1}{e}$ (proszę sprawdzić jego poprawność).\n",
    "* Czy otrzymane wyniki są zgodne z przewidywaniami? Która operacja może powodować takie skutki?\n",
    "* Porównaj błąd otrzymanego ciągu iteracyjnego z ciągiem obliczanym *w przeciwnym kierunku* tj. od $I_{20}$ do $I_1$. Proszę przyjąć, że $I_{20} = 0$.\n",
    "* Jak duży jest błąd danej wejściowej ($I_{20}$) i ostatniego elementu ciągu ($I_1$)?\n",
    "* Który algorytm jest stabilny, a który niestabilny?"
   ]
  },
  {
   "cell_type": "code",
   "execution_count": null,
   "id": "cfebb4e9",
   "metadata": {},
   "outputs": [],
   "source": []
  },
  {
   "cell_type": "markdown",
   "id": "material-assets",
   "metadata": {},
   "source": [
    "# Poszukiwanie miejsc zerowych"
   ]
  },
  {
   "cell_type": "markdown",
   "id": "under-alberta",
   "metadata": {},
   "source": [
    "Dana jest funkcja $$f(x) = e^{-2x}+x^2-1$$"
   ]
  },
  {
   "cell_type": "markdown",
   "id": "beneficial-auckland",
   "metadata": {},
   "source": [
    "***Zadanie 1.***"
   ]
  },
  {
   "cell_type": "markdown",
   "id": "built-serial",
   "metadata": {},
   "source": [
    "Stwórzy wykres prezentujący funkcję $f(x)$ oraz jej pierwszą i drugą pochodną. Na podstawie spróbuj oszacować wartości pierwiastków równania $f(x) = 0$."
   ]
  },
  {
   "cell_type": "code",
   "execution_count": 1,
   "id": "violent-tutorial",
   "metadata": {},
   "outputs": [
    {
     "ename": "ModuleNotFoundError",
     "evalue": "No module named 'numpy'",
     "output_type": "error",
     "traceback": [
      "\u001b[1;31m---------------------------------------------------------------------------\u001b[0m",
      "\u001b[1;31mModuleNotFoundError\u001b[0m                       Traceback (most recent call last)",
      "Cell \u001b[1;32mIn [1], line 1\u001b[0m\n\u001b[1;32m----> 1\u001b[0m \u001b[38;5;28;01mimport\u001b[39;00m \u001b[38;5;21;01mnumpy\u001b[39;00m \u001b[38;5;28;01mas\u001b[39;00m \u001b[38;5;21;01mnp\u001b[39;00m\n\u001b[0;32m      2\u001b[0m \u001b[38;5;28;01mimport\u001b[39;00m \u001b[38;5;21;01mmatplotlib\u001b[39;00m\u001b[38;5;21;01m.\u001b[39;00m\u001b[38;5;21;01mpyplot\u001b[39;00m \u001b[38;5;28;01mas\u001b[39;00m \u001b[38;5;21;01mplt\u001b[39;00m\n\u001b[0;32m      3\u001b[0m \u001b[38;5;28;01mimport\u001b[39;00m \u001b[38;5;21;01msympy\u001b[39;00m \u001b[38;5;28;01mas\u001b[39;00m \u001b[38;5;21;01msp\u001b[39;00m\n",
      "\u001b[1;31mModuleNotFoundError\u001b[0m: No module named 'numpy'"
     ]
    }
   ],
   "source": [
    "import numpy as np\n",
    "import matplotlib.pyplot as plt\n",
    "import sympy as sp\n",
    "\n",
    "# Definicja symboli i funkcji\n",
    "x = sp.symbols('x')\n",
    "f = sp.exp(-2*x) + x**2 - 1\n",
    "\n",
    "# Obliczenie pierwszej i drugiej pochodnej\n",
    "f_prime = sp.diff(f, x)\n",
    "f_double_prime = sp.diff(f_prime, x)\n",
    "\n",
    "# Konwersja funkcji do postaci, którą można obliczyć dla konkretnych wartości x\n",
    "f_lambda = sp.lambdify(x, f, 'numpy')\n",
    "f_prime_lambda = sp.lambdify(x, f_prime, 'numpy')\n",
    "f_double_prime_lambda = sp.lambdify(x, f_double_prime, 'numpy')\n",
    "\n",
    "# Przygotowanie danych do wykresu\n",
    "x_values = np.linspace(-2, 2, 400)\n",
    "f_values = f_lambda(x_values)\n",
    "f_prime_values = f_prime_lambda(x_values)\n",
    "f_double_prime_values = f_double_prime_lambda(x_values)\n",
    "\n",
    "# Rysowanie wykresu\n",
    "plt.figure(figsize=(10, 6))\n",
    "\n",
    "plt.plot(x_values, f_values, label='$f(x) = e^{-2x} + x^2 - 1$', color='blue')\n",
    "plt.plot(x_values, f_prime_values, label=\"$f'(x)$\", linestyle='--', color='red')\n",
    "plt.plot(x_values, f_double_prime_values, label=\"$f''(x)$\", linestyle='-.', color='green')\n",
    "\n",
    "plt.xlabel('x')\n",
    "plt.ylabel('y')\n",
    "plt.title('Wykres funkcji $f(x)$ oraz jej pochodnych')\n",
    "plt.legend()\n",
    "plt.grid(True)\n",
    "plt.show()"
   ]
  },
  {
   "cell_type": "markdown",
   "id": "essential-shepherd",
   "metadata": {},
   "source": [
    "***Zadanie 2.***\n",
    "\n",
    "Samodzielnie zaimplementuj metody:\n",
    "* bisekcji,\n",
    "* Newtona-Raphsona,\n",
    "* siecznych.\n",
    "\n",
    "Każda z funkcji powinna przyjmować następujące argumenty:\n",
    "* lewą stronę równania $g(x) = 0$ reprezentowaną poprzez funkcję (ewentualnie jego pochodną),\n",
    "* przedział lub punkt startowy\n",
    "* tolerancję,\n",
    "* maksymalną liczbę iteracji.\n",
    "\n",
    "i zwracać:\n",
    "* znaleziony pierwiastek,\n",
    "* liczbę iteracji.\n",
    "\n",
    "W jaki sposób sprawdzić warunek stopu? Czy kryterium stopu polegające na kontynuacji iteracji dopóki $x_{i+1}\\neq x_i$ jest prawidłowe (bezpieczne)?"
   ]
  },
  {
   "cell_type": "code",
   "execution_count": 1,
   "id": "alert-nitrogen",
   "metadata": {},
   "outputs": [
    {
     "ename": "ModuleNotFoundError",
     "evalue": "No module named 'numpy'",
     "output_type": "error",
     "traceback": [
      "\u001b[1;31m---------------------------------------------------------------------------\u001b[0m",
      "\u001b[1;31mModuleNotFoundError\u001b[0m                       Traceback (most recent call last)",
      "Cell \u001b[1;32mIn [1], line 1\u001b[0m\n\u001b[1;32m----> 1\u001b[0m \u001b[38;5;28;01mimport\u001b[39;00m \u001b[38;5;21;01mnumpy\u001b[39;00m \u001b[38;5;28;01mas\u001b[39;00m \u001b[38;5;21;01mnp\u001b[39;00m\n\u001b[0;32m      2\u001b[0m \u001b[38;5;28;01mimport\u001b[39;00m \u001b[38;5;21;01msympy\u001b[39;00m \u001b[38;5;28;01mas\u001b[39;00m \u001b[38;5;21;01msp\u001b[39;00m\n\u001b[0;32m      4\u001b[0m \u001b[38;5;28;01mdef\u001b[39;00m \u001b[38;5;21msecant_method\u001b[39m(f, x0, x1, tol, max_iter):\n",
      "\u001b[1;31mModuleNotFoundError\u001b[0m: No module named 'numpy'"
     ]
    }
   ],
   "source": [
    "import numpy as np\n",
    "import sympy as sp\n",
    "\n",
    "def secant_method(f, x0, x1, tol, max_iter):\n",
    "    iterations = 0\n",
    "    \n",
    "    while iterations < max_iter:\n",
    "        x2 = x1 - f(x1) * (x1 - x0) / (f(x1) - f(x0))\n",
    "        if not x2.is_real or abs(x2 - x1) < tol or abs(f(x2)) < tol:\n",
    "            return x2, iterations\n",
    "        x0 = x1\n",
    "        x1 = x2\n",
    "        iterations += 1\n",
    "    \n",
    "    return None, iterations\n",
    "\n",
    "\n",
    "def newton_raphson_method(f, df, x0, tol, max_iter):\n",
    "    iterations = 0\n",
    "    \n",
    "    while iterations < max_iter:\n",
    "        x1 = x0 - f(x0) / df(x0)\n",
    "        if abs(x1 - x0) < tol or abs(f(x1)) < tol:\n",
    "            return x1, iterations\n",
    "        x0 = x1\n",
    "        iterations += 1\n",
    "    \n",
    "    return None, iterations\n",
    "\n",
    "def bisection_method(f, a, b, tol, max_iter):\n",
    "    iterations = 0\n",
    "    \n",
    "    while iterations < max_iter:\n",
    "        c = (a + b) / 2\n",
    "        if f(c) == 0 or (b - a) / 2 < tol:\n",
    "            return c, iterations\n",
    "        iterations += 1\n",
    "        if f(c) * f(a) < 0:\n",
    "            b = c\n",
    "        else:\n",
    "            a = c\n",
    "    \n",
    "    return None, iterations \n"
   ]
  },
  {
   "cell_type": "markdown",
   "id": "bearing-litigation",
   "metadata": {},
   "source": [
    "***Zadanie 3.***\n",
    "\n",
    "Wykorzystaj stworzone w zadaniu 2. metody do znalezienia miejsc zerowych funkcji $f(x)$ z dokładnością $\\epsilon = 10^{-6}$. Porównaj liczby iteracji niezbędnych do znalezienia pierwiastka. Która metoda sprawdziła się najlepiej? Która wypada najgorzej? Czy odpowiedni dobór przedziału może przyspieszyć proces rozwiązywania? Eksperyment przeprowadź dla wszystkich miejsc zerowych $f(x)$.\n"
   ]
  },
  {
   "cell_type": "code",
   "execution_count": 2,
   "id": "separate-calculator",
   "metadata": {},
   "outputs": [
    {
     "ename": "NameError",
     "evalue": "name 'sp' is not defined",
     "output_type": "error",
     "traceback": [
      "\u001b[1;31m---------------------------------------------------------------------------\u001b[0m",
      "\u001b[1;31mNameError\u001b[0m                                 Traceback (most recent call last)",
      "Cell \u001b[1;32mIn [2], line 2\u001b[0m\n\u001b[0;32m      1\u001b[0m \u001b[38;5;66;03m# Definicja funkcji f(x)\u001b[39;00m\n\u001b[1;32m----> 2\u001b[0m x \u001b[38;5;241m=\u001b[39m \u001b[43msp\u001b[49m\u001b[38;5;241m.\u001b[39mSymbol(\u001b[38;5;124m'\u001b[39m\u001b[38;5;124mx\u001b[39m\u001b[38;5;124m'\u001b[39m)\n\u001b[0;32m      3\u001b[0m f \u001b[38;5;241m=\u001b[39m x\u001b[38;5;241m*\u001b[39m\u001b[38;5;241m*\u001b[39m\u001b[38;5;241m3\u001b[39m \u001b[38;5;241m-\u001b[39m \u001b[38;5;241m6\u001b[39m\u001b[38;5;241m*\u001b[39mx\u001b[38;5;241m*\u001b[39m\u001b[38;5;241m*\u001b[39m\u001b[38;5;241m2\u001b[39m \u001b[38;5;241m+\u001b[39m \u001b[38;5;241m11\u001b[39m\u001b[38;5;241m*\u001b[39mx \u001b[38;5;241m-\u001b[39m \u001b[38;5;241m6\u001b[39m\n\u001b[0;32m      5\u001b[0m \u001b[38;5;66;03m# Obliczanie pochodnej funkcji f(x)\u001b[39;00m\n",
      "\u001b[1;31mNameError\u001b[0m: name 'sp' is not defined"
     ]
    }
   ],
   "source": [
    " # Definicja funkcji f(x)\n",
    "x = sp.Symbol('x')\n",
    "f = x**3 - 6*x**2 + 11*x - 6\n",
    "\n",
    "# Obliczanie pochodnej funkcji f(x)\n",
    "df = sp.diff(f, x)\n",
    "\n",
    "# Definicja przedziałów startowych\n",
    "intervals = [(0, 1), (2, 3), (4, 5)]\n",
    "\n",
    "# Dokładność\n",
    "epsilon = 1e-6\n",
    "\n",
    "# Maksymalna liczba iteracji\n",
    "max_iter = 1000\n",
    "\n",
    "# Wyniki dla każdej metody\n",
    "results = {'bisection': [], 'newton_raphson': [], 'secant': []}\n",
    "\n",
    "# Funkcje pomocnicze dla każdej metody\n",
    "def f_func(x_val):\n",
    "    return f.subs(x, x_val)\n",
    "\n",
    "def df_func(x_val):\n",
    "    return df.subs(x, x_val)\n",
    "\n",
    "# Porównanie dla każdego przedziału startowego\n",
    "for interval in intervals:\n",
    "    a, b = interval\n",
    "    \n",
    "    # Metoda bisekcji\n",
    "    root, iterations = bisection_method(f_func, a, b, epsilon, max_iter)\n",
    "    results['bisection'].append(iterations)\n",
    "    \n",
    "    # Metoda Newtona-Raphsona\n",
    "    root, iterations = newton_raphson_method(f_func, df_func, (a + b) / 2, epsilon, max_iter)\n",
    "    results['newton_raphson'].append(iterations)\n",
    "    \n",
    "    # Metoda siecznych\n",
    "    root, iterations = secant_method(f_func, a, b, epsilon, max_iter)\n",
    "    results['secant'].append(iterations)\n",
    "\n",
    "# Wyświetlanie wyników\n",
    "for method, iterations in results.items():\n",
    "    print(f\"Metoda {method}: {iterations}\") \n",
    "\n"
   ]
  },
  {
   "cell_type": "markdown",
   "id": "defensive-haiti",
   "metadata": {},
   "source": [
    "***Zadanie 4.***\n",
    "\n",
    "Przeanalizuj zachowanie ciągów przybliżeń rozwiązań wraz ze wzrostem liczby iteracji. Przedstaw wyniki w postaci wykresu i dokonaj ich analizy."
   ]
  },
  {
   "cell_type": "code",
   "execution_count": null,
   "id": "reserved-housing",
   "metadata": {},
   "outputs": [
    {
     "ename": "ModuleNotFoundError",
     "evalue": "No module named 'matplotlib'",
     "output_type": "error",
     "traceback": [
      "\u001b[1;31m---------------------------------------------------------------------------\u001b[0m",
      "\u001b[1;31mModuleNotFoundError\u001b[0m                       Traceback (most recent call last)",
      "Cell \u001b[1;32mIn [2], line 1\u001b[0m\n\u001b[1;32m----> 1\u001b[0m \u001b[38;5;28;01mimport\u001b[39;00m \u001b[38;5;21;01mmatplotlib\u001b[39;00m\u001b[38;5;21;01m.\u001b[39;00m\u001b[38;5;21;01mpyplot\u001b[39;00m \u001b[38;5;28;01mas\u001b[39;00m \u001b[38;5;21;01mplt\u001b[39;00m\n\u001b[0;32m      3\u001b[0m \u001b[38;5;28;01mdef\u001b[39;00m \u001b[38;5;21manalyze_iterations\u001b[39m(func, method, interval, max_iter\u001b[38;5;241m=\u001b[39m\u001b[38;5;241m1000\u001b[39m):\n\u001b[0;32m      4\u001b[0m     iterations \u001b[38;5;241m=\u001b[39m []\n",
      "\u001b[1;31mModuleNotFoundError\u001b[0m: No module named 'matplotlib'"
     ]
    }
   ],
   "source": [
    "import numpy as np\n",
    "import matplotlib.pyplot as plt\n",
    "import sympy as sp\n",
    "\n",
    "def secant_method(f, x0, x1, tol, max_iter):\n",
    "    iterations = 0\n",
    "    approximations = []\n",
    "    \n",
    "    while iterations < max_iter:\n",
    "        fx1 = f(x1)\n",
    "        fx0 = f(x0)\n",
    "        if abs(fx1 - fx0) < tol:\n",
    "            break\n",
    "        x2 = x1 - fx1 * (x1 - x0) / (fx1 - fx0)\n",
    "        if x2 is None or abs(x2 - x1) < tol or abs(f(x2)) < tol:\n",
    "            break\n",
    "        x0 = x1\n",
    "        x1 = x2\n",
    "        iterations += 1\n",
    "        approximations.append(x2)\n",
    "    \n",
    "    return approximations\n",
    "\n",
    "def newton_raphson_method(f, df, x0, tol, max_iter):\n",
    "    iterations = 0\n",
    "    approximations = []\n",
    "    \n",
    "    while iterations < max_iter:\n",
    "        x1 = x0 - f(x0) / df(x0)\n",
    "        approximations.append(x1)\n",
    "        if abs(x1 - x0) < tol or abs(f(x1)) < tol:\n",
    "            break\n",
    "        x0 = x1\n",
    "        iterations += 1\n",
    "    \n",
    "    return approximations\n",
    "\n",
    "def bisection_method(f, a, b, tol, max_iter):\n",
    "    iterations = 0\n",
    "    approximations = []\n",
    "    \n",
    "    while iterations < max_iter:\n",
    "        c = (a + b) / 2\n",
    "        approximations.append(c)\n",
    "        if f(c) == 0 or (b - a) / 2 < tol:\n",
    "            break\n",
    "        iterations += 1\n",
    "        if f(c) * f(a) < 0:\n",
    "            b = c\n",
    "        else:\n",
    "            a = c\n",
    "    \n",
    "    return approximations\n",
    "\n",
    "# Definicja funkcji f(x)\n",
    "x = sp.Symbol('x')\n",
    "f_expr = x**3 - 6*x**2 + 11*x - 6\n",
    "f_func = sp.lambdify(x, f_expr)\n",
    "\n",
    "# Obliczanie pochodnej funkcji f(x)\n",
    "df_expr = sp.diff(f_expr, x)\n",
    "df_func = sp.lambdify(x, df_expr)\n",
    "\n",
    "# Definicja przedziałów startowych\n",
    "intervals = [(0, 1), (2, 3), (4, 5)]\n",
    "\n",
    "# Dokładność\n",
    "epsilon = 1e-6\n",
    "\n",
    "# Maksymalna liczba iteracji\n",
    "max_iter = 100\n",
    "\n",
    "# Generowanie wykresów dla każdej metody\n",
    "plt.figure(figsize=(10, 6))\n",
    "\n",
    "for interval in intervals:\n",
    "    a, b = interval\n",
    "    \n",
    "    bisection_approximations = bisection_method(f_func, a, b, epsilon, max_iter)\n",
    "    plt.plot(range(len(bisection_approximations)), bisection_approximations, label=f'Bisekcja ({interval})')\n",
    "\n",
    "    newton_raphson_approximations = newton_raphson_method(f_func, df_func, (a + b) / 2, epsilon, max_iter)\n",
    "    plt.plot(range(len(newton_raphson_approximations)), newton_raphson_approximations, label=f'Newton-Raphson ({interval})')\n",
    "\n",
    "    secant_approximations = secant_method(f_func, a, b, epsilon, max_iter)\n",
    "    plt.plot(range(len(secant_approximations)), secant_approximations, label=f'Sieczne ({interval})')\n",
    "\n",
    "plt.xlabel('Liczba iteracji')\n",
    "plt.ylabel('Przybliżenie pierwiastka')\n",
    "plt.title('Zachowanie ciągów przybliżeń rozwiązań')\n",
    "plt.legend()\n",
    "plt.grid(True)\n",
    "plt.show()\n"
   ]
  }
 ],
 "metadata": {
  "kernelspec": {
   "display_name": "Python 3 (ipykernel)",
   "language": "python",
   "name": "python3"
  },
  "language_info": {
   "codemirror_mode": {
    "name": "ipython",
    "version": 3
   },
   "file_extension": ".py",
   "mimetype": "text/x-python",
   "name": "python",
   "nbconvert_exporter": "python",
   "pygments_lexer": "ipython3",
   "version": "3.11.0"
  }
 },
 "nbformat": 4,
 "nbformat_minor": 5
}
