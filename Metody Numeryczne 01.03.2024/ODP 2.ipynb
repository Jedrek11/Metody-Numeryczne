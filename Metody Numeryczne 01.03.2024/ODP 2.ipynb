{
  "metadata": {
    "kernelspec": {
      "name": "python",
      "display_name": "Python (Pyodide)",
      "language": "python"
    },
    "language_info": {
      "codemirror_mode": {
        "name": "python",
        "version": 3
      },
      "file_extension": ".py",
      "mimetype": "text/x-python",
      "name": "python",
      "nbconvert_exporter": "python",
      "pygments_lexer": "ipython3",
      "version": "3.8"
    }
  },
  "nbformat_minor": 5,
  "nbformat": 4,
  "cells": [
    {
      "id": "different-patrol",
      "cell_type": "markdown",
      "source": "# Błędy numeryczne",
      "metadata": {}
    },
    {
      "id": "laughing-breeding",
      "cell_type": "markdown",
      "source": "Zagadnienia:\n* Reprezentacja liczb w komputerze:\n    * Zapis stałoprzecinkowy,\n    * Zapis zmiennoprzecinkowy (standard IEEE 754),\n* Błędy numeryczne:\n    * Błąd względny i bezwzględny.\n    * Błąd zaokrąglenia (ang. *round-off error*).\n    * Błąd obcięcia (ang. *truncation error*).\n    * Błędy związane z przyjętym sposobem rozwiązywania.",
      "metadata": {}
    },
    {
      "id": "rotary-frank",
      "cell_type": "markdown",
      "source": "## Błąd względny i bezwzględny",
      "metadata": {}
    },
    {
      "id": "actual-representation",
      "cell_type": "markdown",
      "source": "***Zadanie 1.***  \nLiczbę $\\textrm{e}$ możemy zdefiniować jako $\\sum\\limits_{n=0}^{\\infty} \\frac{1}{n!}$. Oblicz błąd względny i bezwzględny aproksymacji liczby $\\textrm{e}$ poprzez $\\textrm{e}^{*}$ w przypadku gdy:  \n* $\\textrm{e}_1^{*}=\\sum\\limits_{n=0}^{5} \\frac{1}{n!}$    \n\n* $\\textrm{e}_2^{*}=\\sum\\limits_{n=0}^{10} \\frac{1}{n!}$  \n\n* $\\textrm{e}_3^{*}=\\sum\\limits_{n=0}^{20} \\frac{1}{n!}$\n* ",
      "metadata": {}
    },
    {
      "id": "chinese-mathematics",
      "cell_type": "code",
      "source": "import math\n\n# Definicja funkcji obliczającej e^* na podstawie sumy skończonej\ndef e_approximation(n):\n    e_star = sum(1/math.factorial(i) for i in range(n+1))\n    return e_star\n\n# Obliczenia dla różnych wartości n\nn_values = [5, 10, 20]\n\nfor n in n_values:\n    # Obliczenie wartości e^*\n    e_star = e_approximation(n)\n    \n    # Obliczenie błędu bezwzględnego\n    absolute_error = abs(math.e - e_star)\n    \n    # Obliczenie błędu względnego\n    relative_error = absolute_error / math.e\n    \n    print(f\"n = {n}:\")\n    print(f\"e^* = {e_star}\")\n    print(f\"Błąd bezwzględny: {absolute_error}\")\n    print(f\"Błąd względny: {relative_error}\")\n    print()\n",
      "metadata": {
        "trusted": true
      },
      "outputs": [
        {
          "name": "stdout",
          "text": "n = 5:\ne^* = 2.7166666666666663\nBłąd bezwzględny: 0.0016151617923787498\nBłąd względny: 0.0005941848175817597\n\nn = 10:\ne^* = 2.7182818011463845\nBłąd bezwzględny: 2.7312660577649694e-08\nBłąd względny: 1.0047766310211053e-08\n\nn = 20:\ne^* = 2.7182818284590455\nBłąd bezwzględny: 4.440892098500626e-16\nBłąd względny: 1.6337129034990842e-16\n\n",
          "output_type": "stream"
        }
      ],
      "execution_count": 23
    },
    {
      "id": "fiscal-momentum",
      "cell_type": "markdown",
      "source": "## Zapis zmiennoprzecinkowy",
      "metadata": {}
    },
    {
      "id": "final-venezuela",
      "cell_type": "markdown",
      "source": "**Uwaga**: Używane tu pojęcie **cecha** ma inne znaczenie, niż poznane być może w szkole – skrótowo: „część całkowita”. Dlatego poniżej dodawane jest inne określenie – „wykładnik”.",
      "metadata": {}
    },
    {
      "id": "painful-monitoring",
      "cell_type": "code",
      "source": "import numpy as np\nimport matplotlib.pyplot as plt\nimport sys",
      "metadata": {},
      "outputs": [],
      "execution_count": null
    },
    {
      "id": "collectible-survivor",
      "cell_type": "code",
      "source": "print(np.finfo(float))\neps = np.finfo(float).eps",
      "metadata": {
        "scrolled": true
      },
      "outputs": [],
      "execution_count": null
    },
    {
      "id": "registered-immigration",
      "cell_type": "markdown",
      "source": "***Zadanie 2.***\n\n\na) Wstaw dowolną wartość do liczby x, np. 0.1. Które liczby mają tę samą mantysę, a które tę samą cechę (wykładnik)? Sprawdź wypisując ich wartości w formacie hex.\n",
      "metadata": {}
    },
    {
      "id": "64c4dfa8-0012-4290-a7ab-1ba663e5f88e",
      "cell_type": "code",
      "source": "import struct\n\ndef double_to_binary(f):\n    return bin(struct.unpack('<Q', struct.pack('<d', f))[0])[2:].zfill(64)\n\ndef find_same_mantissa_exponent(x):\n    x_hex = x.hex()\n    x_binary = double_to_binary(x)\n    exponent = x_binary[1:12]\n    mantissa = x_binary[12:]\n    \n    print(f\"Liczba {x} w formacie hex: {x_hex}\")\n    print(f\"Reprezentacja binarna liczby {x}: {x_binary}\")\n    print(f\"Exponent: {exponent}\")\n    print(f\"Mantysa: {mantissa}\")\n\n    same_mantissa = []\n    same_exponent = []\n    \n    for i in range(2**10):\n        test_number = float.fromhex(x_hex[0] + hex(i)[2:].zfill(3) + x_hex[4:])\n        test_binary = double_to_binary(test_number)\n        test_exponent = test_binary[1:12]\n        test_mantissa = test_binary[12:]\n\n        if test_mantissa == mantissa:\n            same_mantissa.append(test_number)\n        if test_exponent == exponent:\n            same_exponent.append(test_number)\n    \n    print(f\"Liczby o takiej samej mantysie jak {x}: {same_mantissa}\")\n    print(f\"Liczby o takim samym wykładniku jak {x}: {same_exponent}\")\n\n# Przykładowe użycie\nx = 0.1\nfind_same_mantissa_exponent(x)\n",
      "metadata": {
        "trusted": true
      },
      "outputs": [
        {
          "name": "stdout",
          "text": "Liczba 0.1 w formacie hex: 0x1.999999999999ap-4\nReprezentacja binarna liczby 0.1: 0011111110111001100110011001100110011001100110011001100110011010\nExponent: 01111111011\nMantysa: 1001100110011001100110011001100110011001100110011010\nLiczby o takiej samej mantysie jak 0.1: [450359962737049.6, 7205759403792794.0, 1.152921504606847e+17]\nLiczby o takim samym wykładniku jak 0.1: []\n",
          "output_type": "stream"
        }
      ],
      "execution_count": 25
    },
    {
      "id": "sapphire-tuesday",
      "cell_type": "markdown",
      "source": "**Uwaga:** Do odczytania liczby w formacie szesnastkowym możesz wykorzystać funkcję:",
      "metadata": {}
    },
    {
      "id": "concrete-webmaster",
      "cell_type": "code",
      "source": "1.25.hex()",
      "metadata": {},
      "outputs": [],
      "execution_count": null
    },
    {
      "id": "96e3aec4",
      "cell_type": "code",
      "source": "5000.0.hex()",
      "metadata": {},
      "outputs": [],
      "execution_count": null
    },
    {
      "id": "constant-sphere",
      "cell_type": "markdown",
      "source": "lub",
      "metadata": {}
    },
    {
      "id": "humanitarian-somerset",
      "cell_type": "code",
      "source": "import struct\ndef double_to_hex(f):\n    print(hex(struct.unpack('<Q', struct.pack('<d', f))[0]))",
      "metadata": {},
      "outputs": [],
      "execution_count": null
    },
    {
      "id": "regular-possibility",
      "cell_type": "code",
      "source": "double_to_hex(1.25)",
      "metadata": {
        "scrolled": true
      },
      "outputs": [],
      "execution_count": null
    },
    {
      "id": "heated-session",
      "cell_type": "markdown",
      "source": "Zamianę w drugą stronę można przeprowadzić za pomocą funkcji *int*",
      "metadata": {}
    },
    {
      "id": "three-butler",
      "cell_type": "code",
      "source": "int('3ff', 16)",
      "metadata": {},
      "outputs": [],
      "execution_count": null
    },
    {
      "id": "completed-vault",
      "cell_type": "code",
      "source": "",
      "metadata": {},
      "outputs": [],
      "execution_count": null
    },
    {
      "id": "higher-router",
      "cell_type": "markdown",
      "source": "\n\nb) Porównaj zapis liczb 0.1, 0.2 i 0.3 w formacie zmiennoprzecinkowym.\n\n* Czy można przewidzieć, czy suma 0.1 + 0.2 będzie reprezentowana dokładnie tak samo jak liczba 0.3?\n* Jaki będzie wynik porównania tej sumy z liczbą 0.3 i konsekwencje użycia warunku równościowego / nierównościowego w pętli?\n\n",
      "metadata": {}
    },
    {
      "id": "limiting-paradise",
      "cell_type": "code",
      "source": "# Reprezentacja liczb w formacie zmiennoprzecinkowym\nx = 0.1\ny = 0.2\nz = 0.3\n\n# Wypisanie reprezentacji szesnastkowych\nprint(\"Reprezentacja szesnastkowa dla 0.1:\", float(x).hex())\nprint(\"Reprezentacja szesnastkowa dla 0.2:\", float(y).hex())\nprint(\"Reprezentacja szesnastkowa dla 0.3:\", float(z).hex())\n\n# Sprawdzenie, czy suma 0.1 i 0.2 jest równa 0.3\nsum_xy = x + y\nprint(\"\\nSuma 0.1 + 0.2:\", sum_xy)\nprint(\"Czy suma 0.1 + 0.2 jest równa 0.3?\", sum_xy == z)\n",
      "metadata": {
        "trusted": true
      },
      "outputs": [
        {
          "name": "stdout",
          "text": "Reprezentacja szesnastkowa dla 0.1: 0x1.999999999999ap-4\nReprezentacja szesnastkowa dla 0.2: 0x1.999999999999ap-3\nReprezentacja szesnastkowa dla 0.3: 0x1.3333333333333p-2\n\nSuma 0.1 + 0.2: 0.30000000000000004\nCzy suma 0.1 + 0.2 jest równa 0.3? False\n",
          "output_type": "stream"
        }
      ],
      "execution_count": 3
    },
    {
      "id": "brutal-windows",
      "cell_type": "markdown",
      "source": "c) Przyjmijmy, że „skrótowe” określenie *liczba dokładnie reprezentowana* oznacza liczbę, która jest reprezentowana w formacie zmiennoprzecinkowym dokładnie, tzn. bez konieczności zaokrąglania.\n* Ile jest liczb dokładnie reprezentowanych w przedziale $[1, 2)$?\n* Zaobserwuj (z pomocą formatu hex) jakie wartości mają bity w polu mantysy w przypadku liczby 1.0.\n* Jaką liczbę trzeba dodać do 1.0, aby tylko na najmłodszej pozycji pola mantysy pojawiło się 1?\n* Czy wyżej otrzymana suma jest najmniejszą liczbą dokładnie reprezentowana, spośród liczb większych od 1?\n* Jak przypuszczasz, jakie wartości będą miały poszczególne bity mantysy w przypadku największej liczby dokładnie reprezentowanej, której cecha (wykładnik) jest równy 0? Sprawdź, czy tak jest rzeczywiście – wpisując wartość tej liczby (jaka to jest wartość?).\n",
      "metadata": {}
    },
    {
      "id": "operating-cotton",
      "cell_type": "code",
      "source": "liczba_dokladnie_reprezentowana = 2**52\nprint(\"Liczba dokładnie reprezentowana w przedziale [1, 2):\", liczba_dokladnie_reprezentowana)\n\nwartosc_mantysy_1 = float.hex(1.0).split('p')[0].split('.')[-1]\nprint(\"Wartość bitów pola mantysy dla liczby 1.0:\", wartosc_mantysy_1)\n\ndodana_wartosc = 2**-52\nsuma = 1.0 + dodana_wartosc\nprint(\"Suma 1.0 + 2^-52:\", suma)\n\nnajwieksza_mantysa_wykładnik_0 = '1.' + '1' * 52\nnajwieksza_liczba = float.fromhex(najwieksza_mantysa_wykładnik_0 + 'p0')\nprint(\"Największa liczba dokładnie reprezentowana, wykładnik=0:\", najwieksza_liczba)\n",
      "metadata": {
        "trusted": true
      },
      "outputs": [
        {
          "name": "stdout",
          "text": "Liczba dokładnie reprezentowana w przedziale [1, 2): 4503599627370496\nWartość bitów pola mantysy dla liczby 1.0: 0000000000000\nSuma 1.0 + 2^-52: 1.0000000000000002\nNajwiększa liczba dokładnie reprezentowana, wykładnik=0: 1.0666666666666667\n",
          "output_type": "stream"
        }
      ],
      "execution_count": 18
    },
    {
      "id": "straight-institute",
      "cell_type": "markdown",
      "source": "d) Oblicz długości przedziałów, do których należą wszystkie liczby mające cechę (wykładnik) równy: 0, 1, 2, 5, -1, -3.\n\n* Czy w każdym z tych przedziałów jest tyle samo liczb dokładnie reprezentowanych? Jeżeli nie, to ile w każdym z nich?\n* Jaka jest odległość między dwoma sąsiednimi liczbami dokładnie reprezentowanymi (odległość, czyli różnica ich wartości) w każdym z tych przedziałów?\n* Jaki jest maksymalny błąd bezwzględny zaokrąglenia w każdym z tych przedziałów?\n* Jaki jest maksymalny błąd względny zaokrąglenia w każdym z tych przedziałów?\n\n\n\n",
      "metadata": {}
    },
    {
      "id": "confirmed-stream",
      "cell_type": "code",
      "source": "import math\n\n# Funkcja do obliczania liczby dokładnie reprezentowanych w przedziale\ndef liczba_dokladnie_reprezentowana(dolny_przedzial, gorny_przedzial):\n    return int((2**52) * (gorny_przedzial - dolny_przedzial))\n\n# Funkcja do obliczania odległości między dwoma sąsiednimi liczbami dokładnie reprezentowanymi\ndef odleglosc_miedzy_liczbami():\n    return 2**-52\n\n# Funkcja do obliczania maksymalnego błędu bezwzględnego zaokrąglenia\ndef maksymalny_blad_bezwzgledny():\n    return 2**-53\n\n# Funkcja do obliczania maksymalnego błędu względnego zaokrąglenia\ndef maksymalny_blad_wzgledny(dolny_przedzial, gorny_przedzial):\n    return (2**-52) / dolny_przedzial\n\n# Obliczenia dla różnych cech (wykładników)\ncechy = [0, 1, 2, 5, -1, -3]\nfor cecha in cechy:\n    dolny_przedzial = 2**cecha\n    gorny_przedzial = 2**(cecha + 1)\n    liczba_dokladnie_reprezentowana_w_przedziale = liczba_dokladnie_reprezentowana(dolny_przedzial, gorny_przedzial)\n    odleglosc_miedzy_liczbami_dokladnie_reprezentowanymi = odleglosc_miedzy_liczbami()\n    maksymalny_blad_bezwzgledny_zaokraglenia = maksymalny_blad_bezwzgledny()\n    maksymalny_blad_wzgledny_zaokraglenia = maksymalny_blad_wzgledny(dolny_przedzial, gorny_przedzial)\n\n    print(f\"Cecha {cecha}:\")\n    print(f\"Długość przedziału: ({dolny_przedzial}, {gorny_przedzial})\")\n    print(f\"Liczba dokładnie reprezentowana w przedziale: {liczba_dokladnie_reprezentowana_w_przedziale}\")\n    print(f\"Odległość między dwoma sąsiednimi liczbami dokładnie reprezentowanymi: {odleglosc_miedzy_liczbami_dokladnie_reprezentowanymi}\")\n    print(f\"Maksymalny błąd bezwzględny zaokrąglenia: {maksymalny_blad_bezwzgledny_zaokraglenia}\")\n    print(f\"Maksymalny błąd względny zaokrąglenia: {maksymalny_blad_wzgledny_zaokraglenia}\")\n    print()\n",
      "metadata": {
        "trusted": true
      },
      "outputs": [
        {
          "name": "stdout",
          "text": "Cecha 0:\nDługość przedziału: (1, 2)\nLiczba dokładnie reprezentowana w przedziale: 4503599627370496\nOdległość między dwoma sąsiednimi liczbami dokładnie reprezentowanymi: 2.220446049250313e-16\nMaksymalny błąd bezwzględny zaokrąglenia: 1.1102230246251565e-16\nMaksymalny błąd względny zaokrąglenia: 2.220446049250313e-16\n\nCecha 1:\nDługość przedziału: (2, 4)\nLiczba dokładnie reprezentowana w przedziale: 9007199254740992\nOdległość między dwoma sąsiednimi liczbami dokładnie reprezentowanymi: 2.220446049250313e-16\nMaksymalny błąd bezwzględny zaokrąglenia: 1.1102230246251565e-16\nMaksymalny błąd względny zaokrąglenia: 1.1102230246251565e-16\n\nCecha 2:\nDługość przedziału: (4, 8)\nLiczba dokładnie reprezentowana w przedziale: 18014398509481984\nOdległość między dwoma sąsiednimi liczbami dokładnie reprezentowanymi: 2.220446049250313e-16\nMaksymalny błąd bezwzględny zaokrąglenia: 1.1102230246251565e-16\nMaksymalny błąd względny zaokrąglenia: 5.551115123125783e-17\n\nCecha 5:\nDługość przedziału: (32, 64)\nLiczba dokładnie reprezentowana w przedziale: 144115188075855872\nOdległość między dwoma sąsiednimi liczbami dokładnie reprezentowanymi: 2.220446049250313e-16\nMaksymalny błąd bezwzględny zaokrąglenia: 1.1102230246251565e-16\nMaksymalny błąd względny zaokrąglenia: 6.938893903907228e-18\n\nCecha -1:\nDługość przedziału: (0.5, 1)\nLiczba dokładnie reprezentowana w przedziale: 2251799813685248\nOdległość między dwoma sąsiednimi liczbami dokładnie reprezentowanymi: 2.220446049250313e-16\nMaksymalny błąd bezwzględny zaokrąglenia: 1.1102230246251565e-16\nMaksymalny błąd względny zaokrąglenia: 4.440892098500626e-16\n\nCecha -3:\nDługość przedziału: (0.125, 0.25)\nLiczba dokładnie reprezentowana w przedziale: 562949953421312\nOdległość między dwoma sąsiednimi liczbami dokładnie reprezentowanymi: 2.220446049250313e-16\nMaksymalny błąd bezwzględny zaokrąglenia: 1.1102230246251565e-16\nMaksymalny błąd względny zaokrąglenia: 1.7763568394002505e-15\n\n",
          "output_type": "stream"
        }
      ],
      "execution_count": 5
    },
    {
      "id": "toxic-sixth",
      "cell_type": "markdown",
      "source": "***Zadanie 3.***\n\nSpójrz na poniższe zjawiska, zastanów się nad ich przyczynami.",
      "metadata": {}
    },
    {
      "id": "further-freedom",
      "cell_type": "markdown",
      "source": "***Problem skali***",
      "metadata": {}
    },
    {
      "id": "removable-victory",
      "cell_type": "markdown",
      "source": "Jaki wynika da poniższy kod:",
      "metadata": {}
    },
    {
      "id": "adjusted-delivery",
      "cell_type": "code",
      "source": "a = 1.0\nb = 0.0000000000000000000000001\nc = a + b\nprint(f'{c:.17f}')",
      "metadata": {
        "trusted": true
      },
      "outputs": [
        {
          "name": "stdout",
          "text": "1.00000000000000000\n",
          "output_type": "stream"
        }
      ],
      "execution_count": 12
    },
    {
      "id": "secret-raise",
      "cell_type": "markdown",
      "source": "***Problem reprezentacji w zapisie binarnym*** ",
      "metadata": {}
    },
    {
      "id": "f6596f1a",
      "cell_type": "code",
      "source": "if 0.1+0.2==0.3:\n    print(\"True\")\nelse:\n    print(\"False\")",
      "metadata": {
        "trusted": true
      },
      "outputs": [
        {
          "name": "stdout",
          "text": "False\n",
          "output_type": "stream"
        }
      ],
      "execution_count": 13
    },
    {
      "id": "cross-ranch",
      "cell_type": "code",
      "source": "suma = 0\nfor i in range(0,100):\n    suma += 0.1\nprint(f'{suma:.15f}')",
      "metadata": {
        "trusted": true
      },
      "outputs": [
        {
          "name": "stdout",
          "text": "9.999999999999980\n",
          "output_type": "stream"
        }
      ],
      "execution_count": 14
    },
    {
      "id": "56086598",
      "cell_type": "markdown",
      "source": "**Zadanie 4.**",
      "metadata": {}
    },
    {
      "id": "35804ff5",
      "cell_type": "markdown",
      "source": "Niech:\n* $a=0.3$\n* $b=10^{-13}$\n* $c=a-b$\n* $d=a-c$\n\nCzy $b$ i $d$ są sobie równe w sensie analitycznym? Co z przypadkiem numerycznym? Zdefiniuj odpowiednie zmienne i porównaj wyniki. Porównaj szesnastkowe i dziesietne reprezentacje zmiennych `b` i `d`. Ile cyfr w reprezentacji `d` możemy uznać za wiarygodne?",
      "metadata": {}
    },
    {
      "id": "47593036",
      "cell_type": "code",
      "source": "# Definicja zmiennych\na = 0.3\nb = 10**-13\nc = a - b\nd = a + c\n\n# Wypisanie wartości zmiennych\nprint(\"Wartość zmiennej b:\", b)\nprint(\"Wartość zmiennej d:\", d)\n\n# Porównanie reprezentacji szesnastkowej i dziesiętnej\nprint(\"\\nReprezentacja szesnastkowa zmiennej b:\", float(b).hex())\nprint(\"Reprezentacja dziesiętna zmiennej b:\", format(b, '.20f'))\nprint(\"Reprezentacja szesnastkowa zmiennej d:\", float(d).hex())\nprint(\"Reprezentacja dziesiętna zmiennej d:\", format(d, '.20f'))\n",
      "metadata": {
        "trusted": true
      },
      "outputs": [
        {
          "name": "stdout",
          "text": "Wartość zmiennej b: 1e-13\nWartość zmiennej d: 0.5999999999999\n\nReprezentacja szesnastkowa zmiennej b: 0x1.c25c268497682p-44\nReprezentacja dziesiętna zmiennej b: 0.00000000000010000000\nReprezentacja szesnastkowa zmiennej d: 0x1.3333333332faep-1\nReprezentacja dziesiętna zmiennej d: 0.59999999999989994670\n",
          "output_type": "stream"
        }
      ],
      "execution_count": 8
    },
    {
      "id": "57bcce2e",
      "cell_type": "markdown",
      "source": "**Zadanie 5.**",
      "metadata": {}
    },
    {
      "id": "33dd498c",
      "cell_type": "markdown",
      "source": "Rozważmy macierz kwadratową:\n$$ A=\\left[\\begin{array}{ccc}\n\\sqrt{2} & \\frac{1}{7}\\\\\n\\pi\\sqrt{2} &\\frac{\\pi}{7}\\\\\n\\end{array}\\right]\n$$\n* Czy jest to macierz osobliwa? Jak to sprawdzić?\n* Oblicz wyznacznik tej macierzy w sposób analityczny i numeryczny (`np.linalg.det`). Czy otrzymałeś te same wartości? Czy wyniki obliczeń numerycznych prowadzą do poprawnej odpowiedzi na pierwsze pytanie? Jakie może to mieć skutki?",
      "metadata": {}
    },
    {
      "id": "7b46d638",
      "cell_type": "code",
      "source": "import numpy as np\n\n# Definicja macierzy A\nA = np.array([[np.sqrt(2), 1/7], [np.pi * np.sqrt(2), np.pi/7]])\n\n# Obliczenia analityczne\ndet_analitycznie = (np.sqrt(2) * np.pi/7) - (1/7 * np.pi * np.sqrt(2))\n\n# Obliczenia numeryczne\ndet_numerycznie = np.linalg.det(A)\n\n# Sprawdzenie czy macierz jest osobliwa\nif det_numerycznie == 0:\n    print(\"Macierz A jest osobliwa.\")\nelse:\n    print(\"Macierz A nie jest osobliwa.\")\n\n# Porównanie wartości wyznacznika\nprint(\"Wyznacznik macierzy obliczony analitycznie:\", det_analitycznie)\nprint(\"Wyznacznik macierzy obliczony numerycznie:\", det_numerycznie)\n",
      "metadata": {
        "trusted": true
      },
      "outputs": [
        {
          "name": "stdout",
          "text": "Macierz A jest osobliwa.\nWyznacznik macierzy obliczony analitycznie: 0.0\nWyznacznik macierzy obliczony numerycznie: 0.0\n",
          "output_type": "stream"
        }
      ],
      "execution_count": 15
    },
    {
      "id": "4db8468c",
      "cell_type": "markdown",
      "source": "**Zadanie 6.**",
      "metadata": {}
    },
    {
      "id": "e1f226f5",
      "cell_type": "markdown",
      "source": "Jedną z metod rozwiązywania równań nieliniowych jest metoda Newtona. Metoda ta powtarza obliczenia, aż spełniony nie będzie warunek stopu. Jeżeli spełnione są odpowiednie założenia to metoda ta zbiega do rozwiązania. Załóżmy, że warunki są spełnione i rozważmy funkcję $f(x)=cos(x)-x$. Poniżej znajdziesz implementację metody Newtona, w której brakuje warunku stopu. Spróbuj go uzupełnić. Warunek powinien być spełniony w momencie, w którym chcemy zakończyć działanie procedury.\n\nZ matematycznego punktu widzenia znajdujemy się w zerze, jeżeli kolejne przybliżenia uzyskane z metody Newtona nie różnią się od siebie (np. dwa ostatnie). Zaimplementuj taki warunek i sprawdź, czy program zatrzyma się. Czy taki warunek stopu jest bezpieczny i można go stosować uniwersalnie? Jak można go poprawić?",
      "metadata": {}
    },
    {
      "id": "26eb839f",
      "cell_type": "code",
      "source": "def newton(f, f_prim, x_0):\n    x_prev = x_0\n    while True:\n        x_n=x_prev-(f(x_prev)/f_prim(x_prev))\n        print(f'x_0={x_n}')\n        double_to_hex(x_n)\n        \n        if True: # Zastąp True swoim warunkiem stopu\n            return x_n\n        else:\n            x_prev=x_n",
      "metadata": {},
      "outputs": [],
      "execution_count": null
    },
    {
      "id": "ce4e917d-00ba-440f-a7ac-a6f5b7f409eb",
      "cell_type": "code",
      "source": "def newton(f, f_prim, x_0, tol=1e-8, max_iter=100):\n    x_prev = x_0\n    for i in range(max_iter):\n        x_n = x_prev - (f(x_prev) / f_prim(x_prev))\n        print(f'Iteracja {i + 1}: x = {x_n}')\n        \n        # Sprawdzenie warunku stopu\n        if abs(x_n - x_prev) < tol:\n            return x_n\n        else:\n            x_prev = x_n\n    # Zwracamy ostatnie przybliżenie, jeśli nie osiągnęliśmy tolerancji po maksymalnej liczbie iteracji\n    return x_n",
      "metadata": {
        "trusted": true
      },
      "outputs": [],
      "execution_count": null
    },
    {
      "id": "8c8e359e",
      "cell_type": "code",
      "source": "def f(x):\n    return # Uzupełnij definicję funkcji \n\ndef f_prim(x):\n    return # Uzupełnij definicję pochodnej",
      "metadata": {},
      "outputs": [],
      "execution_count": null
    },
    {
      "id": "03aa3df9",
      "cell_type": "code",
      "source": "def f(x):\n    return math.cos(x) - x\n\ndef f_prim(x):\n    return -math.sin(x) - 1\n",
      "metadata": {
        "trusted": true
      },
      "outputs": [],
      "execution_count": 11
    },
    {
      "id": "republican-insider",
      "cell_type": "markdown",
      "source": "**Zadanie domowe**  \n\nDany jest ciąg:  \n  \n$G(p)=\\cfrac{1}{p}\\left[10^{p}\\left(1+p\\pi^{*} \\cdot 10^{-p}\\right)-10^{p}\\right],\\ p=1,2,3,\\dots,n $,\nw którym $\\pi^{*}$ jest przybliżeniem liczby $\\pi$ z dokładnością do 15 miejsc po przecinku.\n  \nStwórz funkcję, która umożliwi obliczenie $n$ pierwszych wyrazów tego ciągu i zwróci je w postaci wektora (do przybliżenia wartości $\\pi$ możesz wykorzystać funkcję *[round](https://numpy.org/doc/stable/reference/generated/numpy.round_.html)*). Oblicz błąd bezwzględny i błąd względny otrzymanych wyników. Przedstaw rezultaty na wykresie w zależności od $n$. Wartości błędów przedstaw w skali logarytmicznej (funkcja *plt.semilogy()*).\n\nPrzeanalizuj rozwiązanie i odpowiedz na następujące pytania:  \n* Czy w obliczeniach analitycznych wartość $G(p)$ zależy od $p$?\n* Jak zmienia się błąd w zależności od $n$? O czym to świadczy?\n* Z jakim/jakimi rodzajami błędu mamy do czynienie?\n",
      "metadata": {}
    },
    {
      "id": "regular-malpractice",
      "cell_type": "code",
      "source": "\n",
      "metadata": {
        "trusted": true
      },
      "outputs": [
        {
          "ename": "<class 'ValueError'>",
          "evalue": "setting an array element with a sequence. The requested array has an inhomogeneous shape after 1 dimensions. The detected shape was (100,) + inhomogeneous part.",
          "traceback": [
            "\u001b[0;31m---------------------------------------------------------------------------\u001b[0m",
            "\u001b[0;31mValueError\u001b[0m                                Traceback (most recent call last)",
            "Cell \u001b[0;32mIn[19], line 20\u001b[0m\n\u001b[1;32m     17\u001b[0m     \u001b[38;5;28;01mreturn\u001b[39;00m absolute_errors, relative_errors\n\u001b[1;32m     19\u001b[0m n_values \u001b[38;5;241m=\u001b[39m np\u001b[38;5;241m.\u001b[39marange(\u001b[38;5;241m1\u001b[39m, \u001b[38;5;241m101\u001b[39m)  \u001b[38;5;66;03m# Próbki n od 1 do 100\u001b[39;00m\n\u001b[0;32m---> 20\u001b[0m G_sequence \u001b[38;5;241m=\u001b[39m \u001b[43mnp\u001b[49m\u001b[38;5;241;43m.\u001b[39;49m\u001b[43marray\u001b[49m\u001b[43m(\u001b[49m\u001b[43m[\u001b[49m\u001b[43mcalculate_G_sequence\u001b[49m\u001b[43m(\u001b[49m\u001b[43mn\u001b[49m\u001b[43m)\u001b[49m\u001b[43m \u001b[49m\u001b[38;5;28;43;01mfor\u001b[39;49;00m\u001b[43m \u001b[49m\u001b[43mn\u001b[49m\u001b[43m \u001b[49m\u001b[38;5;129;43;01min\u001b[39;49;00m\u001b[43m \u001b[49m\u001b[43mn_values\u001b[49m\u001b[43m]\u001b[49m\u001b[43m)\u001b[49m\n\u001b[1;32m     21\u001b[0m absolute_errors, relative_errors \u001b[38;5;241m=\u001b[39m calculate_errors(G_sequence)\n\u001b[1;32m     23\u001b[0m plt\u001b[38;5;241m.\u001b[39mfigure(figsize\u001b[38;5;241m=\u001b[39m(\u001b[38;5;241m10\u001b[39m, \u001b[38;5;241m6\u001b[39m))\n",
            "\u001b[0;31mValueError\u001b[0m: setting an array element with a sequence. The requested array has an inhomogeneous shape after 1 dimensions. The detected shape was (100,) + inhomogeneous part."
          ],
          "output_type": "error"
        }
      ],
      "execution_count": 19
    }
  ]
}